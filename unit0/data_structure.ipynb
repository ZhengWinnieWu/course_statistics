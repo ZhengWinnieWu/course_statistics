{
 "cells": [
  {
   "cell_type": "markdown",
   "id": "65aa8dee-bf84-4e68-bcb4-035b5bb36909",
   "metadata": {},
   "source": [
    "# How to read data and extract data information"
   ]
  },
  {
   "cell_type": "markdown",
   "id": "d106681b-708c-4936-9b18-8163a4350bec",
   "metadata": {},
   "source": [
    "### Load the modules/libraries that are needed and useful"
   ]
  },
  {
   "cell_type": "code",
   "execution_count": null,
   "id": "e3d75a64-e8ff-4687-babb-0ae58ec9fa3f",
   "metadata": {},
   "outputs": [],
   "source": [
    "import numpy as np\n",
    "import xarray as xr\n",
    "import pandas as pd"
   ]
  },
  {
   "cell_type": "code",
   "execution_count": null,
   "id": "b784c2e5-c43a-4dcd-8da0-1ae297b6d58c",
   "metadata": {
    "scrolled": true
   },
   "outputs": [],
   "source": [
    "# open data file\n",
    "DIR = '/nfs/spare11/env315/data/'\n",
    "filename = 'era5_an_temp_reg2_daily_2021.nc'\n",
    "datafile = DIR+filename\n",
    "data = xr.open_mfdataset(datafile,combine='by_coords').compute()\n",
    "data"
   ]
  },
  {
   "cell_type": "markdown",
   "id": "3b7e99e1-98bd-4c4f-bd14-c61f35883df9",
   "metadata": {},
   "source": [
    "## Study xarray and data structure"
   ]
  },
  {
   "cell_type": "code",
   "execution_count": null,
   "id": "b1b36163-6f4c-45ff-bbe4-aaed45d04971",
   "metadata": {},
   "outputs": [],
   "source": [
    "# get data coordinate\n",
    "coords = data.coords\n",
    "lat_coord = data.coords[\"lat\"] \n",
    "print(coords)\n",
    "print('***************')\n",
    "print(lat_coord)\n",
    "print('***************')\n",
    "print(coords['lat'])\n",
    "print('***************')"
   ]
  },
  {
   "cell_type": "code",
   "execution_count": null,
   "id": "32fabf05-fe80-45b2-aa24-3e57fc1ec609",
   "metadata": {},
   "outputs": [],
   "source": [
    "# get data dimension\n",
    "dims = data.dims\n",
    "print(dims)\n",
    "print('***************')\n",
    "\n",
    "sizes = data.sizes\n",
    "print(sizes)\n",
    "print('***************')"
   ]
  },
  {
   "cell_type": "code",
   "execution_count": null,
   "id": "f155bc17-2a08-4c48-b585-1e32b3d112c0",
   "metadata": {},
   "outputs": [],
   "source": [
    "# if we only want the values of latitude\n",
    "lat = lat_coord.values\n",
    "\n",
    "# print the data type of latitude\n",
    "print(type(lat))\n",
    "print('***************')\n",
    "# print the size of latitude\n",
    "print(np.shape(lat))\n",
    "print('***************')\n",
    "\n",
    "# print the values of latitude\n",
    "print(lat)\n",
    "print('***************')"
   ]
  },
  {
   "cell_type": "markdown",
   "id": "a8d6097b-d472-4a58-8beb-2ed461d8517d",
   "metadata": {},
   "source": [
    "## Get familiar with NumPy array in Python\n",
    "\n",
    "#### A NumPy array is a grid-like data structure that holds a collection of elements, all of the same data type (e.g., numbers, strings). It provides a way to store and manipulate large amounts of data in a structured and efficient manner.\n",
    "\n",
    "#### NumPy provides a wide range of mathematical functions that can be applied to arrays, such as element-wise operations, linear algebra, and statistical functions."
   ]
  },
  {
   "cell_type": "code",
   "execution_count": null,
   "id": "82fcb7db-2503-44f9-af99-a30d4c3fc752",
   "metadata": {},
   "outputs": [],
   "source": [
    "# index and values of NumPy array\n",
    "print(lat[0]) # first value of data array \"lat\"\n",
    "print(lat[-1]) # last value of data array \"lat\"\n",
    "print(lat[90]) # also last value of data array \"lat\""
   ]
  },
  {
   "cell_type": "code",
   "execution_count": null,
   "id": "887cbc79-1bb0-44cd-8300-7177b181c7dc",
   "metadata": {},
   "outputs": [],
   "source": []
  }
 ],
 "metadata": {
  "kernelspec": {
   "display_name": "Python 3 September 2024 Environment",
   "language": "python",
   "name": "sep24"
  },
  "language_info": {
   "codemirror_mode": {
    "name": "ipython",
    "version": 3
   },
   "file_extension": ".py",
   "mimetype": "text/x-python",
   "name": "python",
   "nbconvert_exporter": "python",
   "pygments_lexer": "ipython3",
   "version": "3.12.5"
  }
 },
 "nbformat": 4,
 "nbformat_minor": 5
}
