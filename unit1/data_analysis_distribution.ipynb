{
 "cells": [
  {
   "cell_type": "markdown",
   "id": "61db504f-5835-4074-8a11-31999987ccb9",
   "metadata": {},
   "source": [
    "# Data analysis"
   ]
  },
  {
   "cell_type": "code",
   "execution_count": 1,
   "id": "d1b3f306-7817-469d-9f0b-d8dbe95ad0e1",
   "metadata": {},
   "outputs": [],
   "source": [
    "import xarray as xr\n",
    "import numpy as np\n",
    "import pandas as pd"
   ]
  },
  {
   "cell_type": "code",
   "execution_count": 2,
   "id": "18cd8ebf-4a81-450c-bf3e-55fc32765a2c",
   "metadata": {},
   "outputs": [],
   "source": [
    "import matplotlib.pyplot as plt\n",
    "from matplotlib import rcParams #For changing text properties\n",
    "import cmocean #A package with beautiful colormaps\n",
    "from cartopy import crs as ccrs #Useful for plotting maps\n",
    "import cartopy.util #Requires separate import\n",
    "from cartopy.util import add_cyclic_point\n",
    "import cartopy.feature as cf\n",
    "from cartopy.mpl.ticker import LongitudeFormatter, LatitudeFormatter\n",
    "import matplotlib.path as mpath\n",
    "import matplotlib.colors as mcolors\n",
    "from mpl_toolkits.axes_grid1 import make_axes_locatable"
   ]
  },
  {
   "cell_type": "markdown",
   "id": "1a961975-ed40-41bb-885a-767ae8b54189",
   "metadata": {},
   "source": [
    "## Compute percentile/quantile"
   ]
  },
  {
   "cell_type": "code",
   "execution_count": 3,
   "id": "d04bfb46-6b00-4f2d-a124-21f004e848cb",
   "metadata": {},
   "outputs": [],
   "source": [
    "# define data values\n",
    "# using the way below will create a list\n"
   ]
  },
  {
   "cell_type": "markdown",
   "id": "c7707844-0a85-4ea3-b9f0-4534332d8c24",
   "metadata": {},
   "source": [
    "# using np.percentile and np.quantile will give the same results\n",
    "## using np.percentile to compute the q-th percentile of the data along the specified axis. \n",
    "### numpy.percentile(a, q, axis=None, out=None, overwrite_input=False, method='linear', keepdims=False, *, weights=None, interpolation=None)\n",
    "### where q values must be between 0 and 100 inclusive.\n",
    "### https://numpy.org/doc/stable/reference/generated/numpy.percentile.html\n",
    "## using np.quantile to compute the q-th quantile of the data along the specified axis.\n",
    "### numpy.quantile(a, q, axis=None, out=None, overwrite_input=False, method='linear', keepdims=False, *, weights=None, interpolation=None)\n",
    "### where q values must be between 0 and 1 inclusive.\n",
    "### https://numpy.org/doc/stable/reference/generated/numpy.quantile.html\n",
    "\n",
    "## Chosing different methods to compute quantile or percentile\n",
    "### https://en.wikipedia.org/wiki/Quartile"
   ]
  },
  {
   "cell_type": "code",
   "execution_count": null,
   "id": "dad0e1db-8f9e-46c5-bfc7-3a921bc68870",
   "metadata": {},
   "outputs": [],
   "source": [
    "q25 = np.percentile(X,25)\n",
    "q50 = np.percentile(X,50)\n",
    "q75 = np.percentile(X,75)\n",
    "print(q25,q50,q75)"
   ]
  },
  {
   "cell_type": "code",
   "execution_count": null,
   "id": "b648d607-2e59-4395-a973-a347770bba0a",
   "metadata": {},
   "outputs": [],
   "source": [
    "q25 = np.quantile(X,0.25)\n",
    "q50 = np.quantile(X,0.5)\n",
    "q75 = np.quantile(X,0.75)\n",
    "print(q25,q50,q75)"
   ]
  },
  {
   "cell_type": "code",
   "execution_count": null,
   "id": "74f8fed0-ca53-462c-b76f-a63b21a05b50",
   "metadata": {},
   "outputs": [],
   "source": [
    "q25 = np.quantile(X,0.25,method='nearest')\n",
    "q50 = np.quantile(X,0.5,method='midpoint')\n",
    "q75 = np.quantile(X,0.75,method='nearest')\n",
    "print(q25,q50,q75)"
   ]
  },
  {
   "cell_type": "code",
   "execution_count": null,
   "id": "0f178861-bad8-4386-9449-d048e551d702",
   "metadata": {},
   "outputs": [],
   "source": [
    "# Read data\n",
    "DIR = '/nfs/spare11/env315/data/'\n",
    "datafile = DIR+'era5_u1060_daily_1980-2019.nc'\n",
    "data = xr.open_mfdataset(datafile).compute()\n",
    "data"
   ]
  },
  {
   "cell_type": "code",
   "execution_count": null,
   "id": "69973d17-f461-4777-b835-cc5f7d22c1d9",
   "metadata": {},
   "outputs": [],
   "source": [
    "# extract the variable\n",
    "data = data.u_component_of_wind\n",
    "data"
   ]
  },
  {
   "cell_type": "markdown",
   "id": "66219af6-74e8-47e0-b93c-83fafc7430b5",
   "metadata": {},
   "source": [
    "### Learn to select data in specific years or months"
   ]
  },
  {
   "cell_type": "code",
   "execution_count": null,
   "id": "123429d6-e9aa-4f32-8fa4-4cad7a43b6c6",
   "metadata": {},
   "outputs": [],
   "source": [
    "print(data.time.dt.year)\n",
    "print(data.time.dt.month)\n",
    "print(data.time.dt.day)"
   ]
  },
  {
   "cell_type": "code",
   "execution_count": null,
   "id": "fc20cac7-fa02-416c-9484-722df7d2b118",
   "metadata": {},
   "outputs": [],
   "source": [
    "# Extract data in specific month\n",
    "u_winter = data.sel(time=data.time.dt.month.isin([1]))\n",
    "u_winter"
   ]
  },
  {
   "cell_type": "code",
   "execution_count": null,
   "id": "9d5ffce7-2221-435a-90db-fb02dda135f4",
   "metadata": {},
   "outputs": [],
   "source": [
    "plt.plot(np.arange(1,32),u_winter.sel(time=u_winter.time.dt.year.isin([1980])))\n",
    "plt.plot(np.arange(1,32),u_winter.sel(time=u_winter.time.dt.year.isin([1981])))\n",
    "plt.plot(np.arange(1,32),u_winter.sel(time=u_winter.time.dt.year.isin([1982])))"
   ]
  },
  {
   "cell_type": "markdown",
   "id": "350da87a-fb28-4fbc-bcb6-b8f7e7e9634a",
   "metadata": {},
   "source": [
    "## Boxplots\n",
    "#### https://matplotlib.org/stable/api/_as_gen/matplotlib.pyplot.boxplot.html"
   ]
  },
  {
   "cell_type": "code",
   "execution_count": null,
   "id": "08c49239-cae5-4b36-b029-723ec4ef1d34",
   "metadata": {},
   "outputs": [],
   "source": [
    "fig = plt.figure(figsize =(5, 4))\n",
    "\n",
    "# Creating boxplot plot\n",
    "\n",
    "\n",
    "# show plot\n",
    "plt.show()"
   ]
  },
  {
   "cell_type": "code",
   "execution_count": null,
   "id": "abb08e2a-1f49-4330-a614-970f838d7754",
   "metadata": {},
   "outputs": [],
   "source": [
    "fig = plt.figure(figsize =(5, 4))\n",
    "ax = fig.add_axes([0, 0, 1, 1])\n",
    "boxplot_data = ax.boxplot(u_winter.values) \n",
    "boxplot_data"
   ]
  },
  {
   "cell_type": "code",
   "execution_count": null,
   "id": "e2eb362c-8e91-4215-98cc-e090f80c61f1",
   "metadata": {},
   "outputs": [],
   "source": [
    "print(boxplot_data['medians'][0].get_ydata())\n",
    "print(np.percentile(u_winter,50))"
   ]
  },
  {
   "cell_type": "code",
   "execution_count": null,
   "id": "b6200b93-e82c-4f54-9828-57ec59f2f82f",
   "metadata": {},
   "outputs": [],
   "source": [
    "print(boxplot_data['boxes'][0].get_ydata()[0:4:2])\n",
    "print(np.percentile(u_winter,25),np.percentile(u_winter,75))"
   ]
  },
  {
   "cell_type": "code",
   "execution_count": null,
   "id": "0b57c4ae-6bf0-4c07-b0fc-3b628b26b029",
   "metadata": {},
   "outputs": [],
   "source": [
    "data_1 = u_winter.sel(time=u_winter.time.dt.year.isin([1980,1981,1982])).values\n",
    "data_2 = u_winter.sel(time=u_winter.time.dt.year.isin([1990,1991,1992])).values\n",
    "data_3 = u_winter.sel(time=u_winter.time.dt.year.isin([2010,2011,2012])).values\n",
    "\n",
    "fig = plt.figure(figsize =(8, 4))\n",
    "\n",
    "# Creating axes instance\n",
    "ax = fig.add_axes([0, 0, 1, 1])\n",
    "\n",
    "# Creating plot\n",
    "\n",
    "\n",
    "# x-axis labels\n",
    "\n",
    "# show plot\n",
    "plt.show()"
   ]
  },
  {
   "cell_type": "code",
   "execution_count": null,
   "id": "4b72db0f-9a1e-4a03-b044-f6943750e501",
   "metadata": {},
   "outputs": [],
   "source": [
    "data_1 = u_winter.sel(time=u_winter.time.dt.year.isin([1980,1981,1982])).values\n",
    "data_2 = u_winter.sel(time=u_winter.time.dt.year.isin([1990,1991,1992])).values\n",
    "data_3 = u_winter.sel(time=u_winter.time.dt.year.isin([2010,2011,2012])).values\n",
    "data_plot = [data_1, data_2, data_3]\n",
    "\n",
    "fig = plt.figure(figsize =(8, 4))\n",
    "# Creating axes instance\n",
    "ax = fig.add_axes([0, 0, 1, 1])\n",
    "\n",
    "# Creating plot\n",
    "\n",
    "\n",
    "# show plot\n",
    "plt.show()"
   ]
  },
  {
   "cell_type": "code",
   "execution_count": null,
   "id": "fe08a140-1fb7-4a49-88a1-f1b185538a97",
   "metadata": {},
   "outputs": [],
   "source": []
  }
 ],
 "metadata": {
  "kernelspec": {
   "display_name": "Python 3 September 2024 Environment",
   "language": "python",
   "name": "sep24"
  },
  "language_info": {
   "codemirror_mode": {
    "name": "ipython",
    "version": 3
   },
   "file_extension": ".py",
   "mimetype": "text/x-python",
   "name": "python",
   "nbconvert_exporter": "python",
   "pygments_lexer": "ipython3",
   "version": "3.12.5"
  }
 },
 "nbformat": 4,
 "nbformat_minor": 5
}
