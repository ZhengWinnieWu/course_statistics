{
 "cells": [
  {
   "cell_type": "markdown",
   "id": "bbef906d-9f02-49a3-9445-a8c18132f579",
   "metadata": {},
   "source": [
    "## Calculate climatology, anomalies with respect to climatology, monthly mean, and running average"
   ]
  },
  {
   "cell_type": "code",
   "execution_count": null,
   "id": "d13d2d30-e7bd-4798-abdb-5d03ad9d6e6c",
   "metadata": {},
   "outputs": [],
   "source": [
    "import xarray as xr\n",
    "import numpy as np\n",
    "import pandas as pd"
   ]
  },
  {
   "cell_type": "code",
   "execution_count": null,
   "id": "2486f186-d2f0-4796-a670-c0fbbe7b2a96",
   "metadata": {},
   "outputs": [],
   "source": [
    "import matplotlib.pyplot as plt\n",
    "from matplotlib import rcParams #For changing text properties\n",
    "import cmocean #A package with beautiful colormaps\n",
    "from cartopy import crs as ccrs #Useful for plotting maps\n",
    "import cartopy.util #Requires separate import\n",
    "from cartopy.util import add_cyclic_point\n",
    "import cartopy.feature as cf\n",
    "from cartopy.mpl.ticker import LongitudeFormatter, LatitudeFormatter\n",
    "import matplotlib.path as mpath\n",
    "import matplotlib.colors as mcolors\n",
    "from mpl_toolkits.axes_grid1 import make_axes_locatable"
   ]
  },
  {
   "cell_type": "code",
   "execution_count": null,
   "id": "41956f0b-161c-4abd-b7c2-ea8275097f40",
   "metadata": {},
   "outputs": [],
   "source": [
    "# Read data\n",
    "DIR = '/nfs/spare11/env315/data/'\n",
    "datafile = DIR+'era5_u1060_daily_1980-2019.nc'\n",
    "data = xr.open_mfdataset(datafile).compute()\n",
    "data = data.u_component_of_wind\n",
    "data"
   ]
  },
  {
   "cell_type": "markdown",
   "id": "9fe20fd6-e78d-4407-8917-3d9f68571be6",
   "metadata": {},
   "source": [
    "## Calculate monthly mean from daily values\n",
    "### There are more than one method that can do this, here we use .resample()\n",
    "### .resample() is the resampling operation. It groups the data into time intervals based on the specified frequency.\n",
    "### Here we choose the resample frequency time=1ME, which time='1ME', meaning a period of 1 month. ME stands for \"month end.\" It means the end of each month.\n",
    "### Therefore, time='1ME' tells xarray to group your data into intervals that represent the end of each month.\n",
    "### .mean() is the aggregation operation. It calculates the mean of the data values within each resampled time interval (the month-end intervals in this case)."
   ]
  },
  {
   "cell_type": "code",
   "execution_count": null,
   "id": "ed5e3996-1902-4469-aca3-70c0066b267c",
   "metadata": {
    "scrolled": true
   },
   "outputs": [],
   "source": [
    "u1060_monthly = data.resample(time='1ME').mean()\n",
    "u1060_monthly"
   ]
  },
  {
   "cell_type": "code",
   "execution_count": null,
   "id": "9df688de-a55a-4438-804f-376ea6a16c4e",
   "metadata": {},
   "outputs": [],
   "source": [
    "# plot the u1060_monthly data\n",
    "fig = plt.figure(figsize =(16, 4))\n",
    "plt.plot(u1060_monthly)"
   ]
  },
  {
   "cell_type": "markdown",
   "id": "7ba046d8-9180-4425-98e6-7a88f7a31926",
   "metadata": {},
   "source": [
    "## Calculate daily climatology\n",
    "### Climatology is done by grouping data by day/month of the year and calculating the mean for each group. We are doing so by using .groupby() method in Python.\n",
    "### .groupby() method splits your xarray into groups based on the values of the specified coordinate(s) or other criteria.\n",
    "### .mean() is to apply the mean function to each group. \n",
    "<span style=\"font-size: 24px; color: red; font-weight: bold;\">We use .groupby(\"time.dayofyear\") to group each day of the year in this case. How many groups do you think we will have? What will be in each group?</span>"
   ]
  },
  {
   "cell_type": "code",
   "execution_count": null,
   "id": "c3680e7f-76f8-4c90-a400-12a47ee3d4f0",
   "metadata": {
    "scrolled": true
   },
   "outputs": [],
   "source": [
    "u1060_clim = data.groupby(\"time.dayofyear\").mean(\"time\")\n",
    "u1060_clim"
   ]
  },
  {
   "cell_type": "markdown",
   "id": "14bebb75-b067-4d6e-b04a-c703f5f5960e",
   "metadata": {},
   "source": [
    "### Calculate standard deviation of each day of the year"
   ]
  },
  {
   "cell_type": "code",
   "execution_count": null,
   "id": "d2de5829-0476-464e-8246-5edad636413c",
   "metadata": {
    "scrolled": true
   },
   "outputs": [],
   "source": [
    "u1060_std = data.groupby(\"time.dayofyear\").std(\"time\")\n",
    "u1060_std"
   ]
  },
  {
   "cell_type": "code",
   "execution_count": null,
   "id": "cbbdce89-c626-4da1-9c1f-78e1167770cd",
   "metadata": {},
   "outputs": [],
   "source": [
    "# plot u1060_clim data\n",
    "fig = plt.figure(figsize =(16, 4))\n",
    "\n",
    "\n",
    "# plot u1060_std data\n",
    "fig = plt.figure(figsize =(16, 4))\n"
   ]
  },
  {
   "cell_type": "code",
   "execution_count": null,
   "id": "6734cc27-b363-49ee-9b45-b684ff2d8537",
   "metadata": {},
   "outputs": [],
   "source": [
    "# plot u1060_clim data\n",
    "fig = plt.figure(figsize =(16, 4))\n",
    "plt.plot(u1060_clim,'k',linewidth=2)\n",
    "\n",
    "# add +/- 1 standard deviation of u1060 on top of the daily climatology data\n",
    "plt.plot(u1060_clim+u1060_std,'blue')\n",
    "plt.plot(u1060_clim-u1060_std,'orange')\n",
    "\n",
    "# add +/- 0.5 standard deviation of u1060 on top of the daily climatology data\n"
   ]
  },
  {
   "cell_type": "markdown",
   "id": "276a7cb9-7421-43fb-9b06-aaa64f3e3aa5",
   "metadata": {},
   "source": [
    "## Calculate daily anomalies"
   ]
  },
  {
   "cell_type": "code",
   "execution_count": null,
   "id": "a7cdba8d-ed86-4ccc-9d07-d5d2e25a08a5",
   "metadata": {},
   "outputs": [],
   "source": [
    "u1060_anom = data.groupby(\"time.dayofyear\")-u1060_clim\n",
    "u1060_anom"
   ]
  },
  {
   "cell_type": "code",
   "execution_count": null,
   "id": "83511fff-930f-4cb1-9fbc-089fb95f7ba6",
   "metadata": {},
   "outputs": [],
   "source": [
    "# plot u1060_anom for year 1980-1983\n",
    "\n",
    "fig = plt.figure(figsize =(16, 4))\n"
   ]
  },
  {
   "cell_type": "markdown",
   "id": "e59d8581-9c7b-4204-9655-cd10782abf91",
   "metadata": {},
   "source": [
    "## Calculate running average\n",
    "### Here we use DataArray.rolling(dim=None, min_periods=None, center=False, **window_kwargs) from xarray. \n",
    "### documentation of the function: https://docs.xarray.dev/en/stable/generated/xarray.DataArray.rolling.html"
   ]
  },
  {
   "cell_type": "code",
   "execution_count": null,
   "id": "c88768d3-ab0a-4491-b172-d6a9fae5280d",
   "metadata": {},
   "outputs": [],
   "source": [
    "# apply a 15-day running average\n",
    "u1060_anom_1_rm = u1060_anom_1.rolling(time=15, center=True).mean()\n",
    "u1060_anom_1_rm"
   ]
  },
  {
   "cell_type": "code",
   "execution_count": null,
   "id": "e8b019aa-07d1-4628-9f20-dccfb8c5c460",
   "metadata": {},
   "outputs": [],
   "source": [
    "# plot the u1060_anom_1 data\n",
    "fig = plt.figure(figsize =(16, 4))\n",
    "\n",
    "\n",
    "# plot the u1060_anom_1_rm data on top of it\n"
   ]
  },
  {
   "cell_type": "code",
   "execution_count": null,
   "id": "5b0b4fe2-cdf7-4323-a718-021df18d0f48",
   "metadata": {},
   "outputs": [],
   "source": []
  }
 ],
 "metadata": {
  "kernelspec": {
   "display_name": "Python 3 September 2024 Environment",
   "language": "python",
   "name": "sep24"
  },
  "language_info": {
   "codemirror_mode": {
    "name": "ipython",
    "version": 3
   },
   "file_extension": ".py",
   "mimetype": "text/x-python",
   "name": "python",
   "nbconvert_exporter": "python",
   "pygments_lexer": "ipython3",
   "version": "3.12.5"
  }
 },
 "nbformat": 4,
 "nbformat_minor": 5
}
