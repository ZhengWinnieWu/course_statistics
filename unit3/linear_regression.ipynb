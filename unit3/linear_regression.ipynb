{
 "cells": [
  {
   "cell_type": "code",
   "execution_count": 1,
   "id": "d04a3654-51fd-4fcd-b155-68797ced3917",
   "metadata": {},
   "outputs": [],
   "source": [
    "import xarray as xr\n",
    "import numpy as np\n",
    "import pandas as pd\n",
    "from scipy import stats"
   ]
  },
  {
   "cell_type": "code",
   "execution_count": 2,
   "id": "eb1500a3-897a-4d45-a02a-7fda9f5e733a",
   "metadata": {},
   "outputs": [],
   "source": [
    "import matplotlib.pyplot as plt\n",
    "from matplotlib import rcParams #For changing text properties\n",
    "import cmocean #A package with beautiful colormaps\n",
    "from cartopy import crs as ccrs #Useful for plotting maps\n",
    "import cartopy.util #Requires separate import\n",
    "from cartopy.util import add_cyclic_point\n",
    "import cartopy.feature as cf\n",
    "from cartopy.mpl.ticker import LongitudeFormatter, LatitudeFormatter\n",
    "import matplotlib.path as mpath\n",
    "import matplotlib.colors as mcolors\n",
    "from mpl_toolkits.axes_grid1 import make_axes_locatable"
   ]
  },
  {
   "cell_type": "markdown",
   "id": "642d6665-dd69-4c40-ad9e-b9521e2f8c79",
   "metadata": {},
   "source": [
    "## In-class activity: use first exam score to estimate final exam score\n",
    "### First exam scores: [65,67,71,71,66,75,67,70,71,69,69]\n",
    "### Final exam scores: [175,133,185,163,126,198,153,163,159,151,159]\n",
    "\n",
    "<span style=\"font-size: 24px; color: red; font-weight: bold;\">How can we define numpy arrays for first and exam scores? Hint: use np.array.</span>"
   ]
  },
  {
   "cell_type": "code",
   "execution_count": 3,
   "id": "e5128543-9574-4f98-a159-f076cf8aa1d0",
   "metadata": {},
   "outputs": [
    {
     "data": {
      "text/plain": [
       "<matplotlib.collections.PathCollection at 0x7ef9e829c740>"
      ]
     },
     "execution_count": 3,
     "metadata": {},
     "output_type": "execute_result"
    },
    {
     "data": {
      "image/png": "[encoded data removed]",
      "text/plain": [
       "<Figure size 1000x400 with 1 Axes>"
      ]
     },
     "metadata": {},
     "output_type": "display_data"
    }
   ],
   "source": [
    "X = np.array([65,67,71,71,66,75,67,70,71,69,69],float)\n",
    "Y = np.array([175,133,185,163,126,198,153,163,159,151,159],float)\n",
    "figure = plt.figure(figsize=(10,4))\n",
    "plt.scatter(X, Y, marker='^', c='b')"
   ]
  },
  {
   "cell_type": "markdown",
   "id": "345831ce-58ff-43f5-9a02-266365a78123",
   "metadata": {},
   "source": [
    "## Using equations in the lecture slides to calculate the slope and intercept."
   ]
  },
  {
   "cell_type": "code",
   "execution_count": 4,
   "id": "135d3694-b16b-4c8b-bb63-738b7125ac6a",
   "metadata": {},
   "outputs": [
    {
     "name": "stdout",
     "output_type": "stream",
     "text": [
      "[-4.18181818 -2.18181818  1.81818182  1.81818182 -3.18181818  5.81818182\n",
      " -2.18181818  0.81818182  1.81818182 -0.18181818 -0.18181818]\n"
     ]
    }
   ],
   "source": [
    "X_mean = np.mean(X)\n",
    "Y_mean = np.mean(Y)\n",
    "X_anom = X-X_mean\n",
    "Y_anom = Y-Y_mean\n",
    "print(X_anom)"
   ]
  },
  {
   "cell_type": "code",
   "execution_count": 5,
   "id": "7f8fad35-0c78-4cbc-afda-fc408313c6dd",
   "metadata": {},
   "outputs": [
    {
     "name": "stdout",
     "output_type": "stream",
     "text": [
      "A: [0 1 2 3 4 5 6 7 8 9] B: [2. 2. 2. 2. 2. 2. 2. 2. 2. 2.]\n"
     ]
    }
   ],
   "source": [
    "datA = np.arange(10)\n",
    "datB = np.zeros(10)+2\n",
    "print('A:',datA,'B:',datB)"
   ]
  },
  {
   "cell_type": "code",
   "execution_count": 6,
   "id": "fb9bc6b2-44fe-4ca6-8ce9-58384979f931",
   "metadata": {},
   "outputs": [
    {
     "name": "stdout",
     "output_type": "stream",
     "text": [
      "A: [0 1 2 3 4 5 6 7 8 9] B: [2. 2. 2. 2. 2. 2. 2. 2. 2. 2.]\n",
      "Add: [ 2.  3.  4.  5.  6.  7.  8.  9. 10. 11.]\n",
      "Subtraction: [-2. -1.  0.  1.  2.  3.  4.  5.  6.  7.]\n",
      "division: [0.  0.5 1.  1.5 2.  2.5 3.  3.5 4.  4.5]\n",
      "multiplication: [ 0.  2.  4.  6.  8. 10. 12. 14. 16. 18.]\n",
      "sum of all elements in an array: 45\n",
      "square of each element in an array: [4. 4. 4. 4. 4. 4. 4. 4. 4. 4.]\n",
      "cube of each element in an array: [8. 8. 8. 8. 8. 8. 8. 8. 8. 8.]\n"
     ]
    }
   ],
   "source": [
    "# define two numpy arrays\n",
    "datA = np.arange(10)\n",
    "datB = np.zeros(10)+2\n",
    "print('A:',datA,'B:',datB)\n",
    "# add,subtraction,multiplication,division\n",
    "dat = datA+datB\n",
    "print('Add:',dat)\n",
    "dat = datA-datB\n",
    "print('Subtraction:',dat)\n",
    "dat = datA/datB\n",
    "print('division:',dat)\n",
    "# compute the element-wise product\n",
    "datAB = datA*datB\n",
    "print('multiplication:',datAB)\n",
    "# compute the sum of the array\n",
    "datA_sum = np.sum(datA)\n",
    "print('sum of all elements in an array:',datA_sum)\n",
    "# compute the square, cube, or nth power of the array\n",
    "datB_sq = datB**2\n",
    "print('square of each element in an array:',datB_sq)\n",
    "datB_cu = datB**3\n",
    "print('cube of each element in an array:',datB_cu)"
   ]
  },
  {
   "cell_type": "code",
   "execution_count": 6,
   "id": "a5cd316a-0398-405c-8f7d-9e7295c4e1a1",
   "metadata": {},
   "outputs": [
    {
     "name": "stdout",
     "output_type": "stream",
     "text": [
      "4.827394209354118 -173.51336302895308\n"
     ]
    }
   ],
   "source": [
    "# Now compute the covariance of X and Y\n",
    "cov_XY = (np.sum(X_anom * Y_anom)) / len(X)\n",
    "# Now compute the variance of X and Y\n",
    "var_X = np.sum(X_anom**2) / len(X)\n",
    "var_Y = np.sum(Y_anom**2) / len(Y) \n",
    "# Now compute the slope\n",
    "slope = (np.sum(X_anom * Y_anom)) / np.sum(X_anom**2)\n",
    "slope = cov_XY / var_X\n",
    "# Now compute the intercept\n",
    "intercept = Y_mean - slope * X_mean\n",
    "print(slope,intercept)"
   ]
  },
  {
   "cell_type": "markdown",
   "id": "14519b4e-84e7-4c35-9d4a-68e736c807c7",
   "metadata": {},
   "source": [
    "## Linear regression\n",
    "### scipy.stats.linregress: Calculate a linear least-squares regression for two sets of measurements.\n",
    "### https://docs.scipy.org/doc/scipy/reference/generated/scipy.stats.linregress.html"
   ]
  },
  {
   "cell_type": "code",
   "execution_count": 7,
   "id": "7094e38e-3b7e-4880-baf9-018389c16b60",
   "metadata": {},
   "outputs": [],
   "source": [
    "from scipy.stats import linregress"
   ]
  },
  {
   "cell_type": "code",
   "execution_count": 8,
   "id": "5a1c62bf-3ffd-4b47-9954-7a0eebd57968",
   "metadata": {},
   "outputs": [
    {
     "name": "stdout",
     "output_type": "stream",
     "text": [
      "4.827394209354119 -173.51336302895314\n",
      "0.6630935909995176\n",
      "LinregressResult(slope=np.float64(4.827394209354119), intercept=np.float64(-173.51336302895314), rvalue=np.float64(0.6630935909995176), pvalue=np.float64(0.026150151531087084), stderr=np.float64(1.8164759883874757), intercept_stderr=np.float64(125.76450515624121))\n"
     ]
    }
   ],
   "source": [
    "# Use linregress function from scipy.stats\n",
    "slope, intercept, corr_coef, p_value, std_err = linregress(X,Y)\n",
    "# print the slope and intercept\n",
    "print(slope,intercept)\n",
    "# print the Pearson Correlation coefficient\n",
    "print(corr_coef)\n",
    "\n",
    "result = linregress(X, Y)\n",
    "print(result)"
   ]
  },
  {
   "cell_type": "code",
   "execution_count": 10,
   "id": "dc5cac4b-8b8e-49fe-977c-48ba23cfa847",
   "metadata": {},
   "outputs": [
    {
     "data": {
      "image/png": "[encoded data removed]",
      "text/plain": [
       "<Figure size 1000x400 with 1 Axes>"
      ]
     },
     "metadata": {},
     "output_type": "display_data"
    }
   ],
   "source": [
    "figure = plt.figure(figsize=(10,4))\n",
    "plt.scatter(X, Y, marker='^', c='b')\n",
    "# Add the linear regression line to the scatterplot\n",
    "# The x-axis is X, and the y-axis is the predicted y\n",
    "yhat = intercept + slope*X\n",
    "plt.plot(X, intercept + slope*X, 'r', label='y='+f\"{slope:.2f}\"+'x'+f\"{intercept:.2f}\"+'+e')\n",
    "plt.plot(X, yhat, 'r', label='y='+f\"{slope:.2f}\"+'x'+f\"{intercept:.2f}\"+'+e')\n",
    "\n",
    "# Add the dot represent the mean of x and the mean of y to the scatterplot\n",
    "X_mean = np.mean(X)\n",
    "Y_mean = np.mean(Y)\n",
    "plt.plot(X_mean, Y_mean, marker='o', linestyle='', color='g', label='mean')\n",
    "\n",
    "plt.legend()\n",
    "plt.show()"
   ]
  },
  {
   "cell_type": "code",
   "execution_count": 7,
   "id": "0de7a4b8-45ef-4708-85b5-9218ed608c0b",
   "metadata": {},
   "outputs": [
    {
     "name": "stdout",
     "output_type": "stream",
     "text": [
      "2.5837917664003644e-15\n",
      "mean of observed Y values:  160.45454545454547\n",
      "mean of predicted Y values:  160.45454545454547\n"
     ]
    }
   ],
   "source": [
    "# test some properties of linear regression\n",
    "Yhat = intercept+slope*X\n",
    "error = Y-Yhat\n",
    "print(np.mean(error))\n",
    "print('mean of observed Y values: ',np.mean(Y))\n",
    "print('mean of predicted Y values: ',np.mean(Yhat))"
   ]
  },
  {
   "cell_type": "code",
   "execution_count": 9,
   "id": "926f3ccd-e461-4607-ad9b-161bfa0ddfef",
   "metadata": {},
   "outputs": [
    {
     "name": "stdout",
     "output_type": "stream",
     "text": [
      "175.0 175.0\n",
      "133.0 133.0\n",
      "185.0 185.0\n",
      "163.0 163.0\n",
      "126.0 126.0\n",
      "198.0 198.0\n",
      "153.0 153.0\n",
      "163.0 163.0\n",
      "159.0 159.0\n",
      "151.0 151.0\n",
      "159.0 159.0\n"
     ]
    }
   ],
   "source": [
    "# introduce for loop\n",
    "k = 0\n",
    "for i in Y:\n",
    "    print(i,Y[k])\n",
    "    k = k+1"
   ]
  },
  {
   "attachments": {},
   "cell_type": "markdown",
   "id": "81590318-f975-4a6d-867b-98602416808b",
   "metadata": {},
   "source": [
    "## Calculate SSE, SSR, and SST and the coefficient of determination $R^2$"
   ]
  },
  {
   "cell_type": "code",
   "execution_count": 8,
   "id": "559d6eb7-3224-41f5-bacf-b8b423b5f630",
   "metadata": {},
   "outputs": [],
   "source": [
    "# Define a function\n",
    "def var_anlys(x,y,slope,intercept):\n",
    "    \"\"\"Calculate SSE for a guessed linear regression line\n",
    "    \n",
    "    Input parameter:\n",
    "        x,y (1d numpy array): \n",
    "            the numpy arrays with the data points\n",
    "        slope (float): \n",
    "            value for the regression line slope\n",
    "        \n",
    "        intercept (float): intercept of the line\n",
    "    Returns:\n",
    "        The SSE value (float)\n",
    "        The SST value (float)\n",
    "        The SSR value (float)\n",
    "        The R^2 value (float)\n",
    "    \"\"\"\n",
    "    yhat = intercept+slope*x\n",
    "    error = y-yhat\n",
    "    SSE = 0\n",
    "    for e in error:\n",
    "        SSE = SSE+e**2\n",
    "\n",
    "    SST = 0\n",
    "    for i in y:\n",
    "        SST = SST+(i-np.mean(y))**2\n",
    "\n",
    "    SSR = 0\n",
    "    for i in yhat:\n",
    "        SSR = SSR+(i-np.mean(y))**2\n",
    "\n",
    "    R2 = SSR/SST\n",
    "    R2_1 = 1-SSE/SST\n",
    "    return SSE,SST,SSR,R2,R2_1"
   ]
  },
  {
   "cell_type": "code",
   "execution_count": 11,
   "id": "1235acd3-16c5-4a03-b5be-9c7f3d1c8006",
   "metadata": {},
   "outputs": [
    {
     "name": "stdout",
     "output_type": "stream",
     "text": [
      "SSE:  2424.2951002227182\n",
      "SST:  4326.727272727273\n",
      "SSR:  1902.432172504555\n",
      "R^2:  0.43969311042463555\n",
      "R^2:  0.43969311042463544\n"
     ]
    }
   ],
   "source": [
    "sse,sst,ssr,R2,R2_1 = var_anlys(X,Y,slope,intercept)\n",
    "print('SSE: ',sse)\n",
    "print('SST: ',sst)\n",
    "print('SSR: ',ssr)\n",
    "print('R^2: ',R2)\n",
    "print('R^2: ',R2_1)"
   ]
  },
  {
   "cell_type": "markdown",
   "id": "a22806c3-26c2-4b40-a328-cc0d313da8f6",
   "metadata": {},
   "source": [
    "## Now, we use another function in Python for linear regression, which can be used for multiple linear regression as well.\n",
    "### The function we introduce here is statsmodels.api.sm.OLS.\n",
    "### OLS is Ordinary Least Squares, which means the linear regression model obtains its regressoin coefficients by minimizing the sum of squared errors. \n",
    "### https://www.statsmodels.org/dev/generated/statsmodels.regression.linear_model.OLS.html"
   ]
  },
  {
   "cell_type": "code",
   "execution_count": 9,
   "id": "65de8e05-9f87-451f-906f-4a5814d9b5f3",
   "metadata": {},
   "outputs": [],
   "source": [
    "import statsmodels.api as sm"
   ]
  },
  {
   "cell_type": "code",
   "execution_count": 10,
   "id": "ded109d6-3f49-477f-82d4-036acedde724",
   "metadata": {},
   "outputs": [
    {
     "name": "stdout",
     "output_type": "stream",
     "text": [
      "[65. 67. 71. 71. 66. 75. 67. 70. 71. 69. 69.]\n",
      "[[ 1. 65.]\n",
      " [ 1. 67.]\n",
      " [ 1. 71.]\n",
      " [ 1. 71.]\n",
      " [ 1. 66.]\n",
      " [ 1. 75.]\n",
      " [ 1. 67.]\n",
      " [ 1. 70.]\n",
      " [ 1. 71.]\n",
      " [ 1. 69.]\n",
      " [ 1. 69.]]\n"
     ]
    }
   ],
   "source": [
    "print(X)\n",
    "x = sm.add_constant(X)\n",
    "print(x)"
   ]
  },
  {
   "cell_type": "code",
   "execution_count": 12,
   "id": "9fc70e9e-cc35-42ce-9c5f-00af77df977c",
   "metadata": {},
   "outputs": [
    {
     "name": "stdout",
     "output_type": "stream",
     "text": [
      "\n",
      "Coefficients:\n",
      "[-173.51336303    4.82739421]\n"
     ]
    },
    {
     "name": "stderr",
     "output_type": "stream",
     "text": [
      "/knight/mamba_aug23/envs/sep24_env/lib/python3.12/site-packages/scipy/stats/_axis_nan_policy.py:418: UserWarning: `kurtosistest` p-value may be inaccurate with fewer than 20 observations; only n=11 observations were given.\n",
      "  return hypotest_fun_in(*args, **kwds)\n"
     ]
    },
    {
     "data": {
      "text/html": [
       "<table class=\"simpletable\">\n",
       "<caption>OLS Regression Results</caption>\n",
       "<tr>\n",
       "  <th>Dep. Variable:</th>            <td>y</td>        <th>  R-squared:         </th> <td>   0.440</td>\n",
       "</tr>\n",
       "<tr>\n",
       "  <th>Model:</th>                   <td>OLS</td>       <th>  Adj. R-squared:    </th> <td>   0.377</td>\n",
       "</tr>\n",
       "<tr>\n",
       "  <th>Method:</th>             <td>Least Squares</td>  <th>  F-statistic:       </th> <td>   7.063</td>\n",
       "</tr>\n",
       "<tr>\n",
       "  <th>Date:</th>             <td>Mon, 07 Apr 2025</td> <th>  Prob (F-statistic):</th>  <td>0.0262</td> \n",
       "</tr>\n",
       "<tr>\n",
       "  <th>Time:</th>                 <td>17:45:52</td>     <th>  Log-Likelihood:    </th> <td> -45.283</td>\n",
       "</tr>\n",
       "<tr>\n",
       "  <th>No. Observations:</th>      <td>    11</td>      <th>  AIC:               </th> <td>   94.57</td>\n",
       "</tr>\n",
       "<tr>\n",
       "  <th>Df Residuals:</th>          <td>     9</td>      <th>  BIC:               </th> <td>   95.36</td>\n",
       "</tr>\n",
       "<tr>\n",
       "  <th>Df Model:</th>              <td>     1</td>      <th>                     </th>     <td> </td>   \n",
       "</tr>\n",
       "<tr>\n",
       "  <th>Covariance Type:</th>      <td>nonrobust</td>    <th>                     </th>     <td> </td>   \n",
       "</tr>\n",
       "</table>\n",
       "<table class=\"simpletable\">\n",
       "<tr>\n",
       "    <td></td>       <th>coef</th>     <th>std err</th>      <th>t</th>      <th>P>|t|</th>  <th>[0.025</th>    <th>0.975]</th>  \n",
       "</tr>\n",
       "<tr>\n",
       "  <th>const</th> <td> -173.5134</td> <td>  125.765</td> <td>   -1.380</td> <td> 0.201</td> <td> -458.012</td> <td>  110.986</td>\n",
       "</tr>\n",
       "<tr>\n",
       "  <th>x1</th>    <td>    4.8274</td> <td>    1.816</td> <td>    2.658</td> <td> 0.026</td> <td>    0.718</td> <td>    8.937</td>\n",
       "</tr>\n",
       "</table>\n",
       "<table class=\"simpletable\">\n",
       "<tr>\n",
       "  <th>Omnibus:</th>       <td> 3.873</td> <th>  Durbin-Watson:     </th> <td>   2.230</td>\n",
       "</tr>\n",
       "<tr>\n",
       "  <th>Prob(Omnibus):</th> <td> 0.144</td> <th>  Jarque-Bera (JB):  </th> <td>   1.575</td>\n",
       "</tr>\n",
       "<tr>\n",
       "  <th>Skew:</th>          <td> 0.915</td> <th>  Prob(JB):          </th> <td>   0.455</td>\n",
       "</tr>\n",
       "<tr>\n",
       "  <th>Kurtosis:</th>      <td> 3.290</td> <th>  Cond. No.          </th> <td>1.76e+03</td>\n",
       "</tr>\n",
       "</table><br/><br/>Notes:<br/>[1] Standard Errors assume that the covariance matrix of the errors is correctly specified.<br/>[2] The condition number is large, 1.76e+03. This might indicate that there are<br/>strong multicollinearity or other numerical problems."
      ],
      "text/latex": [
       "\\begin{center}\n",
       "\\begin{tabular}{lclc}\n",
       "\\toprule\n",
       "\\textbf{Dep. Variable:}    &        y         & \\textbf{  R-squared:         } &     0.440   \\\\\n",
       "\\textbf{Model:}            &       OLS        & \\textbf{  Adj. R-squared:    } &     0.377   \\\\\n",
       "\\textbf{Method:}           &  Least Squares   & \\textbf{  F-statistic:       } &     7.063   \\\\\n",
       "\\textbf{Date:}             & Mon, 07 Apr 2025 & \\textbf{  Prob (F-statistic):} &   0.0262    \\\\\n",
       "\\textbf{Time:}             &     17:45:52     & \\textbf{  Log-Likelihood:    } &   -45.283   \\\\\n",
       "\\textbf{No. Observations:} &          11      & \\textbf{  AIC:               } &     94.57   \\\\\n",
       "\\textbf{Df Residuals:}     &           9      & \\textbf{  BIC:               } &     95.36   \\\\\n",
       "\\textbf{Df Model:}         &           1      & \\textbf{                     } &             \\\\\n",
       "\\textbf{Covariance Type:}  &    nonrobust     & \\textbf{                     } &             \\\\\n",
       "\\bottomrule\n",
       "\\end{tabular}\n",
       "\\begin{tabular}{lcccccc}\n",
       "               & \\textbf{coef} & \\textbf{std err} & \\textbf{t} & \\textbf{P$> |$t$|$} & \\textbf{[0.025} & \\textbf{0.975]}  \\\\\n",
       "\\midrule\n",
       "\\textbf{const} &    -173.5134  &      125.765     &    -1.380  &         0.201        &     -458.012    &      110.986     \\\\\n",
       "\\textbf{x1}    &       4.8274  &        1.816     &     2.658  &         0.026        &        0.718    &        8.937     \\\\\n",
       "\\bottomrule\n",
       "\\end{tabular}\n",
       "\\begin{tabular}{lclc}\n",
       "\\textbf{Omnibus:}       &  3.873 & \\textbf{  Durbin-Watson:     } &    2.230  \\\\\n",
       "\\textbf{Prob(Omnibus):} &  0.144 & \\textbf{  Jarque-Bera (JB):  } &    1.575  \\\\\n",
       "\\textbf{Skew:}          &  0.915 & \\textbf{  Prob(JB):          } &    0.455  \\\\\n",
       "\\textbf{Kurtosis:}      &  3.290 & \\textbf{  Cond. No.          } & 1.76e+03  \\\\\n",
       "\\bottomrule\n",
       "\\end{tabular}\n",
       "%\\caption{OLS Regression Results}\n",
       "\\end{center}\n",
       "\n",
       "Notes: \\newline\n",
       " [1] Standard Errors assume that the covariance matrix of the errors is correctly specified. \\newline\n",
       " [2] The condition number is large, 1.76e+03. This might indicate that there are \\newline\n",
       " strong multicollinearity or other numerical problems."
      ],
      "text/plain": [
       "<class 'statsmodels.iolib.summary.Summary'>\n",
       "\"\"\"\n",
       "                            OLS Regression Results                            \n",
       "==============================================================================\n",
       "Dep. Variable:                      y   R-squared:                       0.440\n",
       "Model:                            OLS   Adj. R-squared:                  0.377\n",
       "Method:                 Least Squares   F-statistic:                     7.063\n",
       "Date:                Mon, 07 Apr 2025   Prob (F-statistic):             0.0262\n",
       "Time:                        17:45:52   Log-Likelihood:                -45.283\n",
       "No. Observations:                  11   AIC:                             94.57\n",
       "Df Residuals:                       9   BIC:                             95.36\n",
       "Df Model:                           1                                         \n",
       "Covariance Type:            nonrobust                                         \n",
       "==============================================================================\n",
       "                 coef    std err          t      P>|t|      [0.025      0.975]\n",
       "------------------------------------------------------------------------------\n",
       "const       -173.5134    125.765     -1.380      0.201    -458.012     110.986\n",
       "x1             4.8274      1.816      2.658      0.026       0.718       8.937\n",
       "==============================================================================\n",
       "Omnibus:                        3.873   Durbin-Watson:                   2.230\n",
       "Prob(Omnibus):                  0.144   Jarque-Bera (JB):                1.575\n",
       "Skew:                           0.915   Prob(JB):                        0.455\n",
       "Kurtosis:                       3.290   Cond. No.                     1.76e+03\n",
       "==============================================================================\n",
       "\n",
       "Notes:\n",
       "[1] Standard Errors assume that the covariance matrix of the errors is correctly specified.\n",
       "[2] The condition number is large, 1.76e+03. This might indicate that there are\n",
       "strong multicollinearity or other numerical problems.\n",
       "\"\"\""
      ]
     },
     "execution_count": 12,
     "metadata": {},
     "output_type": "execute_result"
    }
   ],
   "source": [
    "x = sm.add_constant(X)\n",
    "\n",
    "results = sm.OLS(Y,x).fit()\n",
    "\n",
    "\n",
    "# Access individual parameters (coefficients)\n",
    "print(\"\\nCoefficients:\")\n",
    "print(results.params)\n",
    "\n",
    "# print the complete result\n",
    "results.summary()"
   ]
  },
  {
   "cell_type": "markdown",
   "id": "ddfd16bf-a61e-499e-9274-3c2b9e0bd0f5",
   "metadata": {},
   "source": [
    "## Another function from sklearn package to build a linear regression model. Linear regression model can be considered as a simple machine learning (ML) model. \n",
    "\n",
    "## This function is sklearn.linear_model.LinearRegression. This is a machine learning model and thus it follows the idea and structure of training a ML model.\n",
    "\n",
    "### usage: fit(X, y, sample_weight=None)\n",
    "### Fit linear model.\n",
    "\n",
    "### Input Parameters:\n",
    "### X{array-like, sparse matrix} of shape (n_samples, n_features) Training data.\n",
    "\n",
    "### yarray-like of shape (n_samples,) or (n_samples, n_targets) Target values. \n",
    "\n",
    "### https://scikit-learn.org/stable/modules/generated/sklearn.linear_model.LinearRegression.html"
   ]
  },
  {
   "cell_type": "code",
   "execution_count": 13,
   "id": "56e19399-7d7f-4117-a1c0-12a330a612c3",
   "metadata": {},
   "outputs": [
    {
     "name": "stdout",
     "output_type": "stream",
     "text": [
      "0.43969311042463577\n",
      "slope:  [4.82739421]\n",
      "intercept:  -173.5133630289532\n",
      "[309.22605791]\n"
     ]
    }
   ],
   "source": [
    "from sklearn.linear_model import LinearRegression\n",
    "# The shape of predictor X must be (number of samples, number of features)\n",
    "# In the exercise example, the number of samples is 11 and number of features is 1\n",
    "# because we only have the first exam score as a feature. \n",
    "\n",
    "x = np.zeros(shape=[len(X),1])\n",
    "x[:,0] = X\n",
    "\n",
    "reg = LinearRegression().fit(x, Y)\n",
    "print(reg.score(x, Y))\n",
    "\n",
    "print('slope: ',reg.coef_)\n",
    "\n",
    "print('intercept: ',reg.intercept_)\n",
    "\n",
    "# When using an ML model, the goal is to apply the ML, which is trained on the known data set,\n",
    "# to predict new data. \n",
    "print(reg.predict(np.array([[100]])))"
   ]
  },
  {
   "cell_type": "markdown",
   "id": "38b92ee4-ead3-4b67-9101-0e530a053df9",
   "metadata": {},
   "source": [
    "## Curvilinear regression"
   ]
  },
  {
   "cell_type": "code",
   "execution_count": 13,
   "id": "32915139-85dd-49f5-8ebd-4cd90437a15c",
   "metadata": {},
   "outputs": [
    {
     "data": {
      "text/plain": [
       "<matplotlib.collections.PathCollection at 0x7ef9e829cb60>"
      ]
     },
     "execution_count": 13,
     "metadata": {},
     "output_type": "execute_result"
    },
    {
     "data": {
      "image/png": "[encoded data removed]",
      "text/plain": [
       "<Figure size 1000x400 with 1 Axes>"
      ]
     },
     "metadata": {},
     "output_type": "display_data"
    }
   ],
   "source": [
    "# two new data sets x1 and y1\n",
    "x1 = np.array([0. , 0.1, 0.2, 0.3, 0.4, 0.5, 0.6, 0.7, 0.8, 0.9, 1. , 1.1, 1.2,\n",
    "       1.3, 1.4, 1.5, 1.6, 1.7, 1.8, 1.9])\n",
    "y1 = np.array([ 3.   ,  3.062,  3.136,  3.234,  3.368,  3.55 ,  3.792,  4.106,\n",
    "        4.504,  4.998,  5.6  ,  6.322,  7.176,  8.174,  9.328, 10.65 ,\n",
    "       12.152, 13.846, 15.744, 17.858])\n",
    "\n",
    "# plot scatterplot\n",
    "figure = plt.figure(figsize=(10,4))\n",
    "plt.scatter(x1, y1, marker='^', c='b')"
   ]
  },
  {
   "cell_type": "markdown",
   "id": "146ebca7-e9a8-4aec-b778-b27f9860aadc",
   "metadata": {},
   "source": [
    "## Now we want to use a simple linear regression model to estimate/predict the relationship between x1 and y1.\n",
    "\n",
    "### Assuming $\\hat{y}$ = $b_{1}$x1 + $b_{0}$ is an apporiate function to model the relationship between x1 and y1. \n",
    "\n",
    "$b_{0}$=0.3324 \n",
    "$b_{1}$=7.208\n",
    "$\\hat{y}$ = 7.208 x1 + 0.3324\n",
    "\n",
    "<span style=\"font-size: 24px; color: red; font-weight: bold;\">1. Follow the example above to use statsmodels.api.OLS to model the relationship between x1 and y1. (Present: Group 2)</span>\n",
    "\n",
    "<span style=\"font-size: 24px; color: red; font-weight: bold;\">2. Extract the number of $b_{0}$ and $b_{1}$, and write down the linear regression function. (Present: Group 3)</span>\n",
    "\n",
    "<span style=\"font-size: 24px; color: red; font-weight: bold;\">3. Extract the number of the coefficient of determination $R^2$. (Present: Group 3)</span>\n",
    "\n",
    "<span style=\"font-size: 24px; color: red; font-weight: bold;\">4. Plot the scatterplot of x1 and y1. (Present: Group 4)</span>\n",
    "\n",
    "<span style=\"font-size: 24px; color: red; font-weight: bold;\">5. Add the linear regression line to the scatterplot. (Present: Group 4)</span>\n",
    "\n",
    "<span style=\"font-size: 24px; color: red; font-weight: bold;\">6. Add the label or a textbox to show the function of the linear regression line. (Present: Group 5)</span>\n",
    "\n",
    "<span style=\"font-size: 24px; color: red; font-weight: bold;\">7. Add the mean of x1 and the mean of y1 to the scatterplot. (Present: Group 5)</span>\n",
    "\n",
    "<span style=\"font-size: 24px; color: red; font-weight: bold;\">8. How would you address the nonlinearity in the relationship between x1 and y1. (Present: Group 6)</span>"
   ]
  },
  {
   "cell_type": "code",
   "execution_count": 14,
   "id": "35a9f7fa-3357-4bda-b6df-1c49ef4bbe36",
   "metadata": {},
   "outputs": [
    {
     "name": "stdout",
     "output_type": "stream",
     "text": [
      "\n",
      "Coefficients:\n",
      "[0.3324 7.208 ]\n"
     ]
    },
    {
     "data": {
      "text/html": [
       "<table class=\"simpletable\">\n",
       "<caption>OLS Regression Results</caption>\n",
       "<tr>\n",
       "  <th>Dep. Variable:</th>            <td>y</td>        <th>  R-squared:         </th> <td>   0.855</td>\n",
       "</tr>\n",
       "<tr>\n",
       "  <th>Model:</th>                   <td>OLS</td>       <th>  Adj. R-squared:    </th> <td>   0.846</td>\n",
       "</tr>\n",
       "<tr>\n",
       "  <th>Method:</th>             <td>Least Squares</td>  <th>  F-statistic:       </th> <td>   105.8</td>\n",
       "</tr>\n",
       "<tr>\n",
       "  <th>Date:</th>             <td>Mon, 07 Apr 2025</td> <th>  Prob (F-statistic):</th> <td>5.80e-09</td>\n",
       "</tr>\n",
       "<tr>\n",
       "  <th>Time:</th>                 <td>17:48:55</td>     <th>  Log-Likelihood:    </th> <td> -39.164</td>\n",
       "</tr>\n",
       "<tr>\n",
       "  <th>No. Observations:</th>      <td>    20</td>      <th>  AIC:               </th> <td>   82.33</td>\n",
       "</tr>\n",
       "<tr>\n",
       "  <th>Df Residuals:</th>          <td>    18</td>      <th>  BIC:               </th> <td>   84.32</td>\n",
       "</tr>\n",
       "<tr>\n",
       "  <th>Df Model:</th>              <td>     1</td>      <th>                     </th>     <td> </td>   \n",
       "</tr>\n",
       "<tr>\n",
       "  <th>Covariance Type:</th>      <td>nonrobust</td>    <th>                     </th>     <td> </td>   \n",
       "</tr>\n",
       "</table>\n",
       "<table class=\"simpletable\">\n",
       "<tr>\n",
       "    <td></td>       <th>coef</th>     <th>std err</th>      <th>t</th>      <th>P>|t|</th>  <th>[0.025</th>    <th>0.975]</th>  \n",
       "</tr>\n",
       "<tr>\n",
       "  <th>const</th> <td>    0.3324</td> <td>    0.779</td> <td>    0.427</td> <td> 0.675</td> <td>   -1.304</td> <td>    1.969</td>\n",
       "</tr>\n",
       "<tr>\n",
       "  <th>x1</th>    <td>    7.2080</td> <td>    0.701</td> <td>   10.284</td> <td> 0.000</td> <td>    5.735</td> <td>    8.681</td>\n",
       "</tr>\n",
       "</table>\n",
       "<table class=\"simpletable\">\n",
       "<tr>\n",
       "  <th>Omnibus:</th>       <td> 2.199</td> <th>  Durbin-Watson:     </th> <td>   0.135</td>\n",
       "</tr>\n",
       "<tr>\n",
       "  <th>Prob(Omnibus):</th> <td> 0.333</td> <th>  Jarque-Bera (JB):  </th> <td>   1.817</td>\n",
       "</tr>\n",
       "<tr>\n",
       "  <th>Skew:</th>          <td> 0.638</td> <th>  Prob(JB):          </th> <td>   0.403</td>\n",
       "</tr>\n",
       "<tr>\n",
       "  <th>Kurtosis:</th>      <td> 2.258</td> <th>  Cond. No.          </th> <td>    3.60</td>\n",
       "</tr>\n",
       "</table><br/><br/>Notes:<br/>[1] Standard Errors assume that the covariance matrix of the errors is correctly specified."
      ],
      "text/latex": [
       "\\begin{center}\n",
       "\\begin{tabular}{lclc}\n",
       "\\toprule\n",
       "\\textbf{Dep. Variable:}    &        y         & \\textbf{  R-squared:         } &     0.855   \\\\\n",
       "\\textbf{Model:}            &       OLS        & \\textbf{  Adj. R-squared:    } &     0.846   \\\\\n",
       "\\textbf{Method:}           &  Least Squares   & \\textbf{  F-statistic:       } &     105.8   \\\\\n",
       "\\textbf{Date:}             & Mon, 07 Apr 2025 & \\textbf{  Prob (F-statistic):} &  5.80e-09   \\\\\n",
       "\\textbf{Time:}             &     17:48:55     & \\textbf{  Log-Likelihood:    } &   -39.164   \\\\\n",
       "\\textbf{No. Observations:} &          20      & \\textbf{  AIC:               } &     82.33   \\\\\n",
       "\\textbf{Df Residuals:}     &          18      & \\textbf{  BIC:               } &     84.32   \\\\\n",
       "\\textbf{Df Model:}         &           1      & \\textbf{                     } &             \\\\\n",
       "\\textbf{Covariance Type:}  &    nonrobust     & \\textbf{                     } &             \\\\\n",
       "\\bottomrule\n",
       "\\end{tabular}\n",
       "\\begin{tabular}{lcccccc}\n",
       "               & \\textbf{coef} & \\textbf{std err} & \\textbf{t} & \\textbf{P$> |$t$|$} & \\textbf{[0.025} & \\textbf{0.975]}  \\\\\n",
       "\\midrule\n",
       "\\textbf{const} &       0.3324  &        0.779     &     0.427  &         0.675        &       -1.304    &        1.969     \\\\\n",
       "\\textbf{x1}    &       7.2080  &        0.701     &    10.284  &         0.000        &        5.735    &        8.681     \\\\\n",
       "\\bottomrule\n",
       "\\end{tabular}\n",
       "\\begin{tabular}{lclc}\n",
       "\\textbf{Omnibus:}       &  2.199 & \\textbf{  Durbin-Watson:     } &    0.135  \\\\\n",
       "\\textbf{Prob(Omnibus):} &  0.333 & \\textbf{  Jarque-Bera (JB):  } &    1.817  \\\\\n",
       "\\textbf{Skew:}          &  0.638 & \\textbf{  Prob(JB):          } &    0.403  \\\\\n",
       "\\textbf{Kurtosis:}      &  2.258 & \\textbf{  Cond. No.          } &     3.60  \\\\\n",
       "\\bottomrule\n",
       "\\end{tabular}\n",
       "%\\caption{OLS Regression Results}\n",
       "\\end{center}\n",
       "\n",
       "Notes: \\newline\n",
       " [1] Standard Errors assume that the covariance matrix of the errors is correctly specified."
      ],
      "text/plain": [
       "<class 'statsmodels.iolib.summary.Summary'>\n",
       "\"\"\"\n",
       "                            OLS Regression Results                            \n",
       "==============================================================================\n",
       "Dep. Variable:                      y   R-squared:                       0.855\n",
       "Model:                            OLS   Adj. R-squared:                  0.846\n",
       "Method:                 Least Squares   F-statistic:                     105.8\n",
       "Date:                Mon, 07 Apr 2025   Prob (F-statistic):           5.80e-09\n",
       "Time:                        17:48:55   Log-Likelihood:                -39.164\n",
       "No. Observations:                  20   AIC:                             82.33\n",
       "Df Residuals:                      18   BIC:                             84.32\n",
       "Df Model:                           1                                         \n",
       "Covariance Type:            nonrobust                                         \n",
       "==============================================================================\n",
       "                 coef    std err          t      P>|t|      [0.025      0.975]\n",
       "------------------------------------------------------------------------------\n",
       "const          0.3324      0.779      0.427      0.675      -1.304       1.969\n",
       "x1             7.2080      0.701     10.284      0.000       5.735       8.681\n",
       "==============================================================================\n",
       "Omnibus:                        2.199   Durbin-Watson:                   0.135\n",
       "Prob(Omnibus):                  0.333   Jarque-Bera (JB):                1.817\n",
       "Skew:                           0.638   Prob(JB):                        0.403\n",
       "Kurtosis:                       2.258   Cond. No.                         3.60\n",
       "==============================================================================\n",
       "\n",
       "Notes:\n",
       "[1] Standard Errors assume that the covariance matrix of the errors is correctly specified.\n",
       "\"\"\""
      ]
     },
     "execution_count": 14,
     "metadata": {},
     "output_type": "execute_result"
    }
   ],
   "source": [
    "# define x for the OLS function\n",
    "x = sm.add_constant(x1)\n",
    "\n",
    "# run the model to fit the data\n",
    "results = sm.OLS(y1,x).fit()\n",
    "\n",
    "\n",
    "# Access individual parameters (coefficients)\n",
    "print(\"\\nCoefficients:\")\n",
    "print(results.params)\n",
    "\n",
    "# print the complete result\n",
    "results.summary()"
   ]
  },
  {
   "cell_type": "code",
   "execution_count": 16,
   "id": "93408eec-76ad-476b-b2b1-e19f7c9f2124",
   "metadata": {},
   "outputs": [
    {
     "data": {
      "image/png": "[encoded data removed]",
      "text/plain": [
       "<Figure size 1000x400 with 1 Axes>"
      ]
     },
     "metadata": {},
     "output_type": "display_data"
    }
   ],
   "source": [
    "figure = plt.figure(figsize=(10,4))\n",
    "plt.scatter(x1, y1, marker='^', c='b')\n",
    "# Add the linear line to the scatterplot\n",
    "yhat = results.params[0] + results.params[1]*x1\n",
    "plt.plot(x1, yhat, 'r', label='y1='+f\"{results.params[1]:.2f}\"+'x1+'+f\"{results.params[0]:.2f}\"+'+e')\n",
    "\n",
    "# Add the dot represent the mean of x and the mean of y to the scatterplot\n",
    "X_mean = np.mean(x1)\n",
    "Y_mean = np.mean(y1)\n",
    "plt.plot(X_mean, Y_mean, marker='o', linestyle='', color='r', label='mean')\n",
    "\n",
    "plt.legend()\n",
    "plt.show()"
   ]
  },
  {
   "cell_type": "markdown",
   "id": "49003fb4-6147-4aa9-acad-af8d0edd6b04",
   "metadata": {},
   "source": [
    "### Now we want to add another term to estimate the nonlinearity in the relationship between x1 and y1. \n",
    "### Assuming $\\hat{y}$ = $b_{1}$x1 + $b_{2}$x1$^3$ + $b_{0}$ is an apporiate function to model the relationship between x1 and y1. \n",
    "### We want to find the regression parameters $b_{0}$, $b_{1}$, and $b_{2}$."
   ]
  },
  {
   "cell_type": "code",
   "execution_count": 17,
   "id": "c37f6233-74f5-426f-9364-585a9177aa97",
   "metadata": {},
   "outputs": [
    {
     "name": "stdout",
     "output_type": "stream",
     "text": [
      "(20, 2)\n",
      "[[0.000e+00 0.000e+00]\n",
      " [1.000e-01 1.000e-03]\n",
      " [2.000e-01 8.000e-03]\n",
      " [3.000e-01 2.700e-02]\n",
      " [4.000e-01 6.400e-02]\n",
      " [5.000e-01 1.250e-01]\n",
      " [6.000e-01 2.160e-01]\n",
      " [7.000e-01 3.430e-01]\n",
      " [8.000e-01 5.120e-01]\n",
      " [9.000e-01 7.290e-01]\n",
      " [1.000e+00 1.000e+00]\n",
      " [1.100e+00 1.331e+00]\n",
      " [1.200e+00 1.728e+00]\n",
      " [1.300e+00 2.197e+00]\n",
      " [1.400e+00 2.744e+00]\n",
      " [1.500e+00 3.375e+00]\n",
      " [1.600e+00 4.096e+00]\n",
      " [1.700e+00 4.913e+00]\n",
      " [1.800e+00 5.832e+00]\n",
      " [1.900e+00 6.859e+00]]\n"
     ]
    }
   ],
   "source": [
    "# define value for x1^3\n",
    "x_nonlin = x1**3\n",
    "\n",
    "# combine x1 and x1^3 into a 2-D matrix\n",
    "x1_new = np.ndarray((len(x1),2))\n",
    "for ii in range(len(x1)):\n",
    "    x1_new[ii,0] = x1[ii]\n",
    "    x1_new[ii,1] = x_nonlin[ii]\n",
    "print(x1_new.shape)\n",
    "print(x1_new)"
   ]
  },
  {
   "cell_type": "code",
   "execution_count": 18,
   "id": "8e744c6d-1fb7-4e09-a949-48d0a75554b0",
   "metadata": {},
   "outputs": [
    {
     "name": "stdout",
     "output_type": "stream",
     "text": [
      "\n",
      "Coefficients:\n",
      "[3.  0.6 2. ]\n"
     ]
    },
    {
     "data": {
      "text/html": [
       "<table class=\"simpletable\">\n",
       "<caption>OLS Regression Results</caption>\n",
       "<tr>\n",
       "  <th>Dep. Variable:</th>            <td>y</td>        <th>  R-squared:         </th> <td>   1.000</td> \n",
       "</tr>\n",
       "<tr>\n",
       "  <th>Model:</th>                   <td>OLS</td>       <th>  Adj. R-squared:    </th> <td>   1.000</td> \n",
       "</tr>\n",
       "<tr>\n",
       "  <th>Method:</th>             <td>Least Squares</td>  <th>  F-statistic:       </th> <td>8.743e+30</td>\n",
       "</tr>\n",
       "<tr>\n",
       "  <th>Date:</th>             <td>Mon, 07 Apr 2025</td> <th>  Prob (F-statistic):</th> <td>7.87e-256</td>\n",
       "</tr>\n",
       "<tr>\n",
       "  <th>Time:</th>                 <td>18:26:12</td>     <th>  Log-Likelihood:    </th> <td>  632.61</td> \n",
       "</tr>\n",
       "<tr>\n",
       "  <th>No. Observations:</th>      <td>    20</td>      <th>  AIC:               </th> <td>  -1259.</td> \n",
       "</tr>\n",
       "<tr>\n",
       "  <th>Df Residuals:</th>          <td>    17</td>      <th>  BIC:               </th> <td>  -1256.</td> \n",
       "</tr>\n",
       "<tr>\n",
       "  <th>Df Model:</th>              <td>     2</td>      <th>                     </th>     <td> </td>    \n",
       "</tr>\n",
       "<tr>\n",
       "  <th>Covariance Type:</th>      <td>nonrobust</td>    <th>                     </th>     <td> </td>    \n",
       "</tr>\n",
       "</table>\n",
       "<table class=\"simpletable\">\n",
       "<tr>\n",
       "    <td></td>       <th>coef</th>     <th>std err</th>      <th>t</th>      <th>P>|t|</th>  <th>[0.025</th>    <th>0.975]</th>  \n",
       "</tr>\n",
       "<tr>\n",
       "  <th>const</th> <td>    3.0000</td> <td> 2.66e-15</td> <td> 1.13e+15</td> <td> 0.000</td> <td>    3.000</td> <td>    3.000</td>\n",
       "</tr>\n",
       "<tr>\n",
       "  <th>x1</th>    <td>    0.6000</td> <td> 4.54e-15</td> <td> 1.32e+14</td> <td> 0.000</td> <td>    0.600</td> <td>    0.600</td>\n",
       "</tr>\n",
       "<tr>\n",
       "  <th>x2</th>    <td>    2.0000</td> <td> 1.25e-15</td> <td> 1.59e+15</td> <td> 0.000</td> <td>    2.000</td> <td>    2.000</td>\n",
       "</tr>\n",
       "</table>\n",
       "<table class=\"simpletable\">\n",
       "<tr>\n",
       "  <th>Omnibus:</th>       <td>22.455</td> <th>  Durbin-Watson:     </th> <td>   0.144</td>\n",
       "</tr>\n",
       "<tr>\n",
       "  <th>Prob(Omnibus):</th> <td> 0.000</td> <th>  Jarque-Bera (JB):  </th> <td>  28.925</td>\n",
       "</tr>\n",
       "<tr>\n",
       "  <th>Skew:</th>          <td> 2.085</td> <th>  Prob(JB):          </th> <td>5.24e-07</td>\n",
       "</tr>\n",
       "<tr>\n",
       "  <th>Kurtosis:</th>      <td> 7.162</td> <th>  Cond. No.          </th> <td>    14.7</td>\n",
       "</tr>\n",
       "</table><br/><br/>Notes:<br/>[1] Standard Errors assume that the covariance matrix of the errors is correctly specified."
      ],
      "text/latex": [
       "\\begin{center}\n",
       "\\begin{tabular}{lclc}\n",
       "\\toprule\n",
       "\\textbf{Dep. Variable:}    &        y         & \\textbf{  R-squared:         } &     1.000   \\\\\n",
       "\\textbf{Model:}            &       OLS        & \\textbf{  Adj. R-squared:    } &     1.000   \\\\\n",
       "\\textbf{Method:}           &  Least Squares   & \\textbf{  F-statistic:       } & 8.743e+30   \\\\\n",
       "\\textbf{Date:}             & Mon, 07 Apr 2025 & \\textbf{  Prob (F-statistic):} & 7.87e-256   \\\\\n",
       "\\textbf{Time:}             &     18:26:12     & \\textbf{  Log-Likelihood:    } &    632.61   \\\\\n",
       "\\textbf{No. Observations:} &          20      & \\textbf{  AIC:               } &    -1259.   \\\\\n",
       "\\textbf{Df Residuals:}     &          17      & \\textbf{  BIC:               } &    -1256.   \\\\\n",
       "\\textbf{Df Model:}         &           2      & \\textbf{                     } &             \\\\\n",
       "\\textbf{Covariance Type:}  &    nonrobust     & \\textbf{                     } &             \\\\\n",
       "\\bottomrule\n",
       "\\end{tabular}\n",
       "\\begin{tabular}{lcccccc}\n",
       "               & \\textbf{coef} & \\textbf{std err} & \\textbf{t} & \\textbf{P$> |$t$|$} & \\textbf{[0.025} & \\textbf{0.975]}  \\\\\n",
       "\\midrule\n",
       "\\textbf{const} &       3.0000  &     2.66e-15     &  1.13e+15  &         0.000        &        3.000    &        3.000     \\\\\n",
       "\\textbf{x1}    &       0.6000  &     4.54e-15     &  1.32e+14  &         0.000        &        0.600    &        0.600     \\\\\n",
       "\\textbf{x2}    &       2.0000  &     1.25e-15     &  1.59e+15  &         0.000        &        2.000    &        2.000     \\\\\n",
       "\\bottomrule\n",
       "\\end{tabular}\n",
       "\\begin{tabular}{lclc}\n",
       "\\textbf{Omnibus:}       & 22.455 & \\textbf{  Durbin-Watson:     } &    0.144  \\\\\n",
       "\\textbf{Prob(Omnibus):} &  0.000 & \\textbf{  Jarque-Bera (JB):  } &   28.925  \\\\\n",
       "\\textbf{Skew:}          &  2.085 & \\textbf{  Prob(JB):          } & 5.24e-07  \\\\\n",
       "\\textbf{Kurtosis:}      &  7.162 & \\textbf{  Cond. No.          } &     14.7  \\\\\n",
       "\\bottomrule\n",
       "\\end{tabular}\n",
       "%\\caption{OLS Regression Results}\n",
       "\\end{center}\n",
       "\n",
       "Notes: \\newline\n",
       " [1] Standard Errors assume that the covariance matrix of the errors is correctly specified."
      ],
      "text/plain": [
       "<class 'statsmodels.iolib.summary.Summary'>\n",
       "\"\"\"\n",
       "                            OLS Regression Results                            \n",
       "==============================================================================\n",
       "Dep. Variable:                      y   R-squared:                       1.000\n",
       "Model:                            OLS   Adj. R-squared:                  1.000\n",
       "Method:                 Least Squares   F-statistic:                 8.743e+30\n",
       "Date:                Mon, 07 Apr 2025   Prob (F-statistic):          7.87e-256\n",
       "Time:                        18:26:12   Log-Likelihood:                 632.61\n",
       "No. Observations:                  20   AIC:                            -1259.\n",
       "Df Residuals:                      17   BIC:                            -1256.\n",
       "Df Model:                           2                                         \n",
       "Covariance Type:            nonrobust                                         \n",
       "==============================================================================\n",
       "                 coef    std err          t      P>|t|      [0.025      0.975]\n",
       "------------------------------------------------------------------------------\n",
       "const          3.0000   2.66e-15   1.13e+15      0.000       3.000       3.000\n",
       "x1             0.6000   4.54e-15   1.32e+14      0.000       0.600       0.600\n",
       "x2             2.0000   1.25e-15   1.59e+15      0.000       2.000       2.000\n",
       "==============================================================================\n",
       "Omnibus:                       22.455   Durbin-Watson:                   0.144\n",
       "Prob(Omnibus):                  0.000   Jarque-Bera (JB):               28.925\n",
       "Skew:                           2.085   Prob(JB):                     5.24e-07\n",
       "Kurtosis:                       7.162   Cond. No.                         14.7\n",
       "==============================================================================\n",
       "\n",
       "Notes:\n",
       "[1] Standard Errors assume that the covariance matrix of the errors is correctly specified.\n",
       "\"\"\""
      ]
     },
     "execution_count": 18,
     "metadata": {},
     "output_type": "execute_result"
    }
   ],
   "source": [
    "x = sm.add_constant(x1_new)\n",
    "\n",
    "results_2 = sm.OLS(y1,x).fit()\n",
    "\n",
    "\n",
    "# Access individual parameters (coefficients)\n",
    "print(\"\\nCoefficients:\")\n",
    "print(results_2.params)\n",
    "\n",
    "# print the complete result\n",
    "results_2.summary()"
   ]
  },
  {
   "attachments": {},
   "cell_type": "markdown",
   "id": "270ffbca-52dc-4d02-a68f-4c515c3a87b5",
   "metadata": {},
   "source": [
    "## Interpret the results of fitting the data to the regression model\n",
    "\n",
    "<span style=\"font-size: 24px; color: red; font-weight: bold;\">9. Extract the number of the regression parameters and write down the regression function. (Present: Group 6)</span>\n",
    "\n",
    "<span style=\"font-size: 24px; color: red; font-weight: bold;\">10. Extract the number of the coefficient of determination $R^2$. (Present: Group 6)</span>\n",
    "\n",
    "<span style=\"font-size: 24px; color: red; font-weight: bold;\">11. Add the curvilinear regression line (predicted y1) to the scatterplot. (Present: Group 7 and 8)</span>\n",
    "\n",
    "<span style=\"font-size: 24px; color: red; font-weight: bold;\">12. Add the label or a textbox to show the function of the curvilinear regression line. (Present: Group 7 and 8)</span>"
   ]
  },
  {
   "cell_type": "code",
   "execution_count": 22,
   "id": "6f05af08-7524-4e6b-adce-0534befa14b1",
   "metadata": {},
   "outputs": [
    {
     "data": {
      "image/png": "[encoded data removed]",
      "text/plain": [
       "<Figure size 1000x400 with 1 Axes>"
      ]
     },
     "metadata": {},
     "output_type": "display_data"
    }
   ],
   "source": [
    "figure = plt.figure(figsize=(10,4))\n",
    "plt.scatter(x1, y1, marker='^', c='b')\n",
    "yhat = results_2.params[0] + results_2.params[1]*x1 + results_2.params[2]*x1**3\n",
    "plt.plot(x1, yhat, 'r', label='y1='+f\"{results_2.params[1]:.2f}\"+'x1+'+f\"{results_2.params[2]:.2f}\"+'x1^3+'+f\"{results_2.params[0]:.2f}\"+'+e')\n",
    "\n",
    "plt.legend()\n",
    "plt.show()"
   ]
  },
  {
   "cell_type": "code",
   "execution_count": null,
   "id": "256fe8e0-8f26-423a-926c-67d4dfad857e",
   "metadata": {},
   "outputs": [],
   "source": []
  }
 ],
 "metadata": {
  "kernelspec": {
   "display_name": "Python 3 September 2024 Environment",
   "language": "python",
   "name": "sep24"
  },
  "language_info": {
   "codemirror_mode": {
    "name": "ipython",
    "version": 3
   },
   "file_extension": ".py",
   "mimetype": "text/x-python",
   "name": "python",
   "nbconvert_exporter": "python",
   "pygments_lexer": "ipython3",
   "version": "3.12.5"
  }
 },
 "nbformat": 4,
 "nbformat_minor": 5
}
