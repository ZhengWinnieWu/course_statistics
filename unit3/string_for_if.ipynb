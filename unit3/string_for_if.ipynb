{
 "cells": [
  {
   "cell_type": "code",
   "execution_count": 1,
   "id": "8d8d3c3c-437a-47a3-bd43-945f90f3c874",
   "metadata": {},
   "outputs": [],
   "source": [
    "import xarray as xr\n",
    "import numpy as np\n",
    "import pandas as pd\n",
    "from scipy import stats"
   ]
  },
  {
   "cell_type": "code",
   "execution_count": 9,
   "id": "5e891148-e3ae-4178-aafe-6a6e6292b2e9",
   "metadata": {},
   "outputs": [
    {
     "name": "stdout",
     "output_type": "stream",
     "text": [
      "<class 'int'> 5\n",
      "<class 'float'> 5.0\n",
      "<class 'numpy.ndarray'> 5\n",
      "<class 'str'> 5\n",
      "<class 'str'> correlation\n"
     ]
    }
   ],
   "source": [
    "a = 5\n",
    "print(type(a),a)\n",
    "a = 5.0\n",
    "print(type(a),a)\n",
    "a = np.array(5)\n",
    "print(type(a),a)\n",
    "a = '5'\n",
    "print(type(a),a)\n",
    "a = 'correlation'\n",
    "print(type(a),a)"
   ]
  },
  {
   "cell_type": "code",
   "execution_count": 16,
   "id": "d8342c9e-5f09-4919-84f8-449d534df900",
   "metadata": {},
   "outputs": [
    {
     "name": "stdout",
     "output_type": "stream",
     "text": [
      "data type of a: <class 'float'> value of a: 10.0\n",
      "data type of b: <class 'str'> value of b: 10.0\n"
     ]
    }
   ],
   "source": [
    "# convert a number to a string\n",
    "a = 10.0\n",
    "b = str(a)\n",
    "print('data type of a:',type(a),'value of a:',a)\n",
    "print('data type of b:',type(b),'value of b:',b)"
   ]
  },
  {
   "cell_type": "markdown",
   "id": "25885b41-ad0e-46f2-8c14-eaf095a806e5",
   "metadata": {},
   "source": [
    "### Convert a number to a string and format the string\n",
    "### f\"{a:.2f}\": The a:.2f inside the curly braces is a format specifier.\n",
    "### : indicates the start of the format specifier.\n",
    "### .2 specifies that we want to keep two decimal places.\n",
    "### f indicates that the value being formatted is a floating-point number."
   ]
  },
  {
   "cell_type": "code",
   "execution_count": 21,
   "id": "08f3d698-500d-4aa1-b79c-2f413a20d80e",
   "metadata": {},
   "outputs": [
    {
     "name": "stdout",
     "output_type": "stream",
     "text": [
      "<class 'float'> 3.141592653589793\n",
      "<class 'str'> 3.14\n",
      "<class 'str'> 3.142\n",
      "<class 'str'> 3.1415926536\n",
      "<class 'str'> 3.14\n",
      "<class 'str'> 3.1415926536\n",
      "<class 'str'> 3.14\n",
      "<class 'str'> 3.1415926536\n"
     ]
    }
   ],
   "source": [
    "# convert a number to a string with defined format\n",
    "a = np.pi\n",
    "print(type(a),a)\n",
    "# method 1\n",
    "b = f\"{a:.2f}\"\n",
    "print(type(b),b)\n",
    "b = f\"{a:.3f}\"\n",
    "print(type(b),b)\n",
    "b = f\"{a:.10f}\"\n",
    "print(type(b),b)\n",
    "# method 2\n",
    "b = \"{:.2f}\".format(a)\n",
    "print(type(b),b)\n",
    "b = \"{:.10f}\".format(a)\n",
    "print(type(b),b)\n",
    "# method 3\n",
    "b = \"%.2f\" % a   # % marks the start of the formatting\n",
    "print(type(b),b)\n",
    "b = \"%.10f\" % a\n",
    "print(type(b),b)"
   ]
  },
  {
   "cell_type": "code",
   "execution_count": 27,
   "id": "b4368740-de1a-4498-ab53-e1ea3a0650d0",
   "metadata": {},
   "outputs": [
    {
     "name": "stdout",
     "output_type": "stream",
     "text": [
      "correlation=\n",
      "correlation=0.9988\n",
      "correlation=0.9988\n"
     ]
    }
   ],
   "source": [
    "# connect two strings\n",
    "a = 'correlation'+'='\n",
    "print(a)\n",
    "# connect strings and numbers\n",
    "r_xy = 0.9988\n",
    "a = 'correlation='+str(r_xy)\n",
    "print(a)\n",
    "a = 'correlation'+'='+str(r_xy)\n",
    "print(a)"
   ]
  },
  {
   "cell_type": "markdown",
   "id": "69cc92b6-9687-4a15-95b6-33b4fd5d02be",
   "metadata": {},
   "source": [
    "<span style=\"font-size: 24px; color: green; font-weight: bold;\">Exercise</span>\n",
    "### define a string variable <span style=\"font-size: 24px; color: red; font-weight: bold;\">text</span> as \"r_xy = 0.99\"\n",
    "### define a string variable <span style=\"font-size: 24px; color: red; font-weight: bold;\">text</span> as \"r_xy is 0.99 and it indicates strong positive correlation\""
   ]
  },
  {
   "cell_type": "code",
   "execution_count": null,
   "id": "0711f0a7-32d3-4cb5-a0c6-bfe2e704c384",
   "metadata": {},
   "outputs": [],
   "source": []
  },
  {
   "cell_type": "markdown",
   "id": "e198ad0a-0b6d-44b4-a0c8-8e348f184970",
   "metadata": {},
   "source": [
    "## for loop\n",
    "### print number 0 to 10"
   ]
  },
  {
   "cell_type": "code",
   "execution_count": 29,
   "id": "bc8402dc-0638-455e-865a-894f7178ef5e",
   "metadata": {},
   "outputs": [
    {
     "name": "stdout",
     "output_type": "stream",
     "text": [
      "0\n",
      "1\n",
      "2\n",
      "3\n",
      "4\n",
      "5\n",
      "6\n",
      "7\n",
      "8\n",
      "9\n",
      "10\n"
     ]
    }
   ],
   "source": [
    "for i in range(11):\n",
    "    print(i)"
   ]
  },
  {
   "cell_type": "code",
   "execution_count": 33,
   "id": "8c12d8ed-494c-44da-937b-d9d0efda950b",
   "metadata": {},
   "outputs": [
    {
     "name": "stdout",
     "output_type": "stream",
     "text": [
      "0\n",
      "1\n",
      "2\n",
      "3\n",
      "4\n",
      "5\n",
      "6\n",
      "7\n",
      "8\n",
      "9\n",
      "10\n"
     ]
    }
   ],
   "source": [
    "a = np.arange(11)\n",
    "for i in a:\n",
    "    print(i)"
   ]
  },
  {
   "cell_type": "markdown",
   "id": "6ed5a67f-4cb0-45f8-b165-f75bb0332c34",
   "metadata": {},
   "source": [
    "### print each element in an array"
   ]
  },
  {
   "cell_type": "code",
   "execution_count": 37,
   "id": "eded8c85-9179-423e-a0b3-2534588a9f33",
   "metadata": {},
   "outputs": [
    {
     "name": "stdout",
     "output_type": "stream",
     "text": [
      "[ 0  2  4  6  8 10 12 14 16 18 20]\n",
      "0\n",
      "2\n",
      "4\n",
      "6\n",
      "8\n",
      "10\n",
      "12\n",
      "14\n",
      "16\n",
      "18\n",
      "20\n"
     ]
    }
   ],
   "source": [
    "b = np.arange(11)*2\n",
    "print(b)\n",
    "for i in range(11):\n",
    "    print(b[i])"
   ]
  },
  {
   "cell_type": "markdown",
   "id": "755b038a-7378-41a4-ad1b-8b3f4c91c434",
   "metadata": {},
   "source": [
    "<span style=\"font-size: 24px; color: green; font-weight: bold;\">Exercise</span>\n",
    "### 1. print index of 0 to 10 and the corresponding number of the array <span style=\"font-size: 24px; color: red; font-weight: bold;\">b</span> using for loop\n",
    "\n",
    "### 2. Write a program that calculates the sum of all numbers from 1 to 10."
   ]
  },
  {
   "cell_type": "code",
   "execution_count": 40,
   "id": "56ea28ab-31d3-4354-83c7-8b047b4fbd5e",
   "metadata": {},
   "outputs": [
    {
     "name": "stdout",
     "output_type": "stream",
     "text": [
      "[ 0  2  4  6  8 10 12 14 16 18 20]\n"
     ]
    }
   ],
   "source": [
    "b = np.arange(11)*2\n",
    "print(b)"
   ]
  },
  {
   "cell_type": "code",
   "execution_count": null,
   "id": "625d6e4b-48e0-4c04-a91c-4762073228a0",
   "metadata": {},
   "outputs": [],
   "source": []
  },
  {
   "cell_type": "markdown",
   "id": "c700beeb-1b52-48df-ab5b-c554201f7c74",
   "metadata": {},
   "source": [
    "## if statement"
   ]
  },
  {
   "cell_type": "code",
   "execution_count": 41,
   "id": "de71782a-0d70-4938-bdc9-73a485206312",
   "metadata": {},
   "outputs": [
    {
     "name": "stdout",
     "output_type": "stream",
     "text": [
      "b is greater than a\n"
     ]
    }
   ],
   "source": [
    "a = 30\n",
    "b = 200\n",
    "if b > a:\n",
    "    print(\"b is greater than a\")"
   ]
  },
  {
   "cell_type": "code",
   "execution_count": 42,
   "id": "de939d54-b16e-4c31-a23b-7e348f315262",
   "metadata": {},
   "outputs": [
    {
     "name": "stdout",
     "output_type": "stream",
     "text": [
      "b is not smaller than a\n"
     ]
    }
   ],
   "source": [
    "a = 30\n",
    "b = 200\n",
    "if b < a:\n",
    "    print(\"b is smaller than a\")\n",
    "else:\n",
    "    print(\"b is not smaller than a\")"
   ]
  },
  {
   "cell_type": "code",
   "execution_count": 43,
   "id": "e2f5b566-2aa9-4ef8-a55b-edf8c1b00b3b",
   "metadata": {},
   "outputs": [
    {
     "name": "stdout",
     "output_type": "stream",
     "text": [
      "b is equal to a\n"
     ]
    }
   ],
   "source": [
    "a = 200\n",
    "b = 200\n",
    "if b == a:\n",
    "    print(\"b is equal to a\")"
   ]
  },
  {
   "cell_type": "code",
   "execution_count": 44,
   "id": "0af59cfa-eab6-4dc5-a68a-bec7d91c49f5",
   "metadata": {},
   "outputs": [
    {
     "name": "stdout",
     "output_type": "stream",
     "text": [
      "b is not equal to a\n"
     ]
    }
   ],
   "source": [
    "a = 30\n",
    "b = 200\n",
    "if b != a:\n",
    "    print(\"b is not equal to a\")"
   ]
  },
  {
   "cell_type": "markdown",
   "id": "477d13c7-5c39-4ca8-a61a-1112c27ed2d5",
   "metadata": {},
   "source": [
    "### variab a = np.arange(10)*2\n",
    "### find elements in variable <span style=\"font-size: 24px; color: red; font-weight: bold;\">a</span> that are larger than 10"
   ]
  },
  {
   "cell_type": "code",
   "execution_count": 52,
   "id": "8805ade1-12a0-4ed4-8f14-c710efdb406c",
   "metadata": {},
   "outputs": [
    {
     "name": "stdout",
     "output_type": "stream",
     "text": [
      "[ 0  2  4  6  8 10 12 14 16 18]\n",
      "(array([6, 7, 8, 9]),)\n",
      "[12 14 16 18]\n"
     ]
    }
   ],
   "source": [
    "a = np.arange(10)*2\n",
    "print(a)\n",
    "b = np.where(a>10)\n",
    "# b is the indexing of elements in a that corresponds to values larger than 10\n",
    "print(b) \n",
    "# print the elements in a that are larger than 10\n",
    "print(a[b])"
   ]
  },
  {
   "cell_type": "markdown",
   "id": "55791702-33bc-4305-a684-624f8b85b912",
   "metadata": {},
   "source": [
    "## finding the remainder of a division\n",
    "### (%): This operator returns the remainder directly."
   ]
  },
  {
   "cell_type": "code",
   "execution_count": 5,
   "id": "f62af4b6-2de2-4c89-8e43-485f02eb379e",
   "metadata": {},
   "outputs": [
    {
     "name": "stdout",
     "output_type": "stream",
     "text": [
      "0\n",
      "1\n"
     ]
    }
   ],
   "source": [
    "a = 10\n",
    "b = 2\n",
    "print(a % b)\n",
    "\n",
    "a = 10\n",
    "b = 3\n",
    "print(a % b)"
   ]
  },
  {
   "cell_type": "markdown",
   "id": "44c080a4-a0d9-40d4-93db-cfa4ad181778",
   "metadata": {},
   "source": [
    "<span style=\"font-size: 24px; color: green; font-weight: bold;\">Exercise</span>\n",
    "### 1. find elements in variable <span style=\"font-size: 24px; color: red; font-weight: bold;\">a</span>, a = np.array([0,10,10,10,0,0,0,0,10]). Print the indexing in a where values are not equal to 10. Print the elements in a where they are not equal to 10.\n",
    "### 2. Iterate through the elements in variable <span style=\"font-size: 24px; color: red; font-weight: bold;\">a</span>, a=np.arange(100)+1. If a number is even, print \"even\" and the number. If a number is odd, print \"odd\" and the number."
   ]
  },
  {
   "cell_type": "code",
   "execution_count": null,
   "id": "85821a9d-3554-43c4-9ad6-cff99acd97f8",
   "metadata": {},
   "outputs": [],
   "source": []
  }
 ],
 "metadata": {
  "kernelspec": {
   "display_name": "Python 3 September 2024 Environment",
   "language": "python",
   "name": "sep24"
  },
  "language_info": {
   "codemirror_mode": {
    "name": "ipython",
    "version": 3
   },
   "file_extension": ".py",
   "mimetype": "text/x-python",
   "name": "python",
   "nbconvert_exporter": "python",
   "pygments_lexer": "ipython3",
   "version": "3.12.5"
  }
 },
 "nbformat": 4,
 "nbformat_minor": 5
}
